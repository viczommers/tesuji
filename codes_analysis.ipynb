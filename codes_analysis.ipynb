{
 "cells": [
  {
   "cell_type": "code",
   "execution_count": 2,
   "metadata": {},
   "outputs": [
    {
     "data": {
      "text/html": [
       "<div>\n",
       "<style scoped>\n",
       "    .dataframe tbody tr th:only-of-type {\n",
       "        vertical-align: middle;\n",
       "    }\n",
       "\n",
       "    .dataframe tbody tr th {\n",
       "        vertical-align: top;\n",
       "    }\n",
       "\n",
       "    .dataframe thead th {\n",
       "        text-align: right;\n",
       "    }\n",
       "</style>\n",
       "<table border=\"1\" class=\"dataframe\">\n",
       "  <thead>\n",
       "    <tr style=\"text-align: right;\">\n",
       "      <th></th>\n",
       "      <th>Code</th>\n",
       "      <th>CodeDescription</th>\n",
       "      <th>chap</th>\n",
       "      <th>HistoricalNotes</th>\n",
       "      <th>Notes</th>\n",
       "      <th>active</th>\n",
       "      <th>CodingPrinciples</th>\n",
       "    </tr>\n",
       "  </thead>\n",
       "  <tbody>\n",
       "    <tr>\n",
       "      <th>3645</th>\n",
       "      <td>U1290</td>\n",
       "      <td>Video urodynamic studies</td>\n",
       "      <td>36.2.0</td>\n",
       "      <td>NaN</td>\n",
       "      <td>NaN</td>\n",
       "      <td>True</td>\n",
       "      <td>NaN</td>\n",
       "    </tr>\n",
       "    <tr>\n",
       "      <th>3646</th>\n",
       "      <td>V5260</td>\n",
       "      <td>Myelogram</td>\n",
       "      <td>36.2.0</td>\n",
       "      <td>NaN</td>\n",
       "      <td>NaN</td>\n",
       "      <td>True</td>\n",
       "      <td>NaN</td>\n",
       "    </tr>\n",
       "    <tr>\n",
       "      <th>3647</th>\n",
       "      <td>V5260</td>\n",
       "      <td>Myelogram</td>\n",
       "      <td>36.3.0</td>\n",
       "      <td>NaN</td>\n",
       "      <td>NaN</td>\n",
       "      <td>True</td>\n",
       "      <td>NaN</td>\n",
       "    </tr>\n",
       "    <tr>\n",
       "      <th>3648</th>\n",
       "      <td>V5281</td>\n",
       "      <td>Dynamic CT myelogram</td>\n",
       "      <td>0.0.0</td>\n",
       "      <td>New code added in December 2024</td>\n",
       "      <td>NaN</td>\n",
       "      <td>True</td>\n",
       "      <td>NaN</td>\n",
       "    </tr>\n",
       "    <tr>\n",
       "      <th>3649</th>\n",
       "      <td>X3530</td>\n",
       "      <td>Sedation or general anaesthesia for MRI or CT ...</td>\n",
       "      <td>35.0.0</td>\n",
       "      <td>New code added in December 2014Code inactivate...</td>\n",
       "      <td>NaN</td>\n",
       "      <td>False</td>\n",
       "      <td>NaN</td>\n",
       "    </tr>\n",
       "  </tbody>\n",
       "</table>\n",
       "</div>"
      ],
      "text/plain": [
       "       Code                                    CodeDescription    chap  \\\n",
       "3645  U1290                           Video urodynamic studies  36.2.0   \n",
       "3646  V5260                                          Myelogram  36.2.0   \n",
       "3647  V5260                                          Myelogram  36.3.0   \n",
       "3648  V5281                               Dynamic CT myelogram   0.0.0   \n",
       "3649  X3530  Sedation or general anaesthesia for MRI or CT ...  35.0.0   \n",
       "\n",
       "                                        HistoricalNotes Notes  active  \\\n",
       "3645                                                NaN   NaN    True   \n",
       "3646                                                NaN   NaN    True   \n",
       "3647                                                NaN   NaN    True   \n",
       "3648                    New code added in December 2024   NaN    True   \n",
       "3649  New code added in December 2014Code inactivate...   NaN   False   \n",
       "\n",
       "     CodingPrinciples  \n",
       "3645              NaN  \n",
       "3646              NaN  \n",
       "3647              NaN  \n",
       "3648              NaN  \n",
       "3649              NaN  "
      ]
     },
     "execution_count": 2,
     "metadata": {},
     "output_type": "execute_result"
    }
   ],
   "source": [
    "import pandas as pd\n",
    "categories = pd.read_csv('codes.csv')\n",
    "\n",
    "categories.head()\n",
    "\n",
    "categories.tail()\n",
    "\n"
   ]
  },
  {
   "cell_type": "code",
   "execution_count": 3,
   "metadata": {},
   "outputs": [
    {
     "data": {
      "text/html": [
       "<div>\n",
       "<style scoped>\n",
       "    .dataframe tbody tr th:only-of-type {\n",
       "        vertical-align: middle;\n",
       "    }\n",
       "\n",
       "    .dataframe tbody tr th {\n",
       "        vertical-align: top;\n",
       "    }\n",
       "\n",
       "    .dataframe thead th {\n",
       "        text-align: right;\n",
       "    }\n",
       "</style>\n",
       "<table border=\"1\" class=\"dataframe\">\n",
       "  <thead>\n",
       "    <tr style=\"text-align: right;\">\n",
       "      <th></th>\n",
       "      <th>Code</th>\n",
       "      <th>CodeDescription</th>\n",
       "      <th>chap</th>\n",
       "      <th>HistoricalNotes</th>\n",
       "      <th>Notes</th>\n",
       "      <th>active</th>\n",
       "      <th>CodingPrinciples</th>\n",
       "    </tr>\n",
       "  </thead>\n",
       "  <tbody>\n",
       "    <tr>\n",
       "      <th>count</th>\n",
       "      <td>3649</td>\n",
       "      <td>3649</td>\n",
       "      <td>3650</td>\n",
       "      <td>769</td>\n",
       "      <td>119</td>\n",
       "      <td>3650</td>\n",
       "      <td>235</td>\n",
       "    </tr>\n",
       "    <tr>\n",
       "      <th>unique</th>\n",
       "      <td>3629</td>\n",
       "      <td>2880</td>\n",
       "      <td>31</td>\n",
       "      <td>234</td>\n",
       "      <td>98</td>\n",
       "      <td>2</td>\n",
       "      <td>128</td>\n",
       "    </tr>\n",
       "    <tr>\n",
       "      <th>top</th>\n",
       "      <td>OP010</td>\n",
       "      <td>Glucose level</td>\n",
       "      <td>34.1.1</td>\n",
       "      <td>New code added in June 2018</td>\n",
       "      <td>Use 5643B</td>\n",
       "      <td>True</td>\n",
       "      <td>1584B</td>\n",
       "    </tr>\n",
       "    <tr>\n",
       "      <th>freq</th>\n",
       "      <td>3</td>\n",
       "      <td>6</td>\n",
       "      <td>1374</td>\n",
       "      <td>205</td>\n",
       "      <td>22</td>\n",
       "      <td>3529</td>\n",
       "      <td>25</td>\n",
       "    </tr>\n",
       "  </tbody>\n",
       "</table>\n",
       "</div>"
      ],
      "text/plain": [
       "         Code CodeDescription    chap              HistoricalNotes      Notes  \\\n",
       "count    3649            3649    3650                          769        119   \n",
       "unique   3629            2880      31                          234         98   \n",
       "top     OP010   Glucose level  34.1.1  New code added in June 2018  Use 5643B   \n",
       "freq        3               6    1374                          205         22   \n",
       "\n",
       "       active CodingPrinciples  \n",
       "count    3650              235  \n",
       "unique      2              128  \n",
       "top      True            1584B  \n",
       "freq     3529               25  "
      ]
     },
     "execution_count": 3,
     "metadata": {},
     "output_type": "execute_result"
    }
   ],
   "source": [
    "categories.describe()"
   ]
  },
  {
   "cell_type": "code",
   "execution_count": 4,
   "metadata": {},
   "outputs": [
    {
     "name": "stdout",
     "output_type": "stream",
     "text": [
      "<class 'pandas.core.frame.DataFrame'>\n",
      "RangeIndex: 3650 entries, 0 to 3649\n",
      "Data columns (total 7 columns):\n",
      " #   Column            Non-Null Count  Dtype \n",
      "---  ------            --------------  ----- \n",
      " 0   Code              3649 non-null   object\n",
      " 1   CodeDescription   3649 non-null   object\n",
      " 2   chap              3650 non-null   object\n",
      " 3   HistoricalNotes   769 non-null    object\n",
      " 4   Notes             119 non-null    object\n",
      " 5   active            3650 non-null   bool  \n",
      " 6   CodingPrinciples  235 non-null    object\n",
      "dtypes: bool(1), object(6)\n",
      "memory usage: 174.8+ KB\n"
     ]
    }
   ],
   "source": [
    "categories.info()"
   ]
  },
  {
   "cell_type": "code",
   "execution_count": 7,
   "metadata": {},
   "outputs": [
    {
     "data": {
      "text/plain": [
       "Code\n",
       "OP010    3\n",
       "OP001    2\n",
       "IM284    2\n",
       "5046B    2\n",
       "C4520    2\n",
       "        ..\n",
       "2702O    1\n",
       "2702U    1\n",
       "2703B    1\n",
       "2703H    1\n",
       "X3530    1\n",
       "Name: count, Length: 3629, dtype: int64"
      ]
     },
     "execution_count": 7,
     "metadata": {},
     "output_type": "execute_result"
    }
   ],
   "source": [
    "categories['Code'].duplicated().sum()\n",
    "categories['Code'].value_counts()"
   ]
  },
  {
   "cell_type": "code",
   "execution_count": 8,
   "metadata": {},
   "outputs": [
    {
     "data": {
      "text/plain": [
       "Code\n",
       "OP010    3\n",
       "OP001    2\n",
       "IM284    2\n",
       "5046B    2\n",
       "C4520    2\n",
       "        ..\n",
       "2702O    1\n",
       "2702U    1\n",
       "2703B    1\n",
       "2703H    1\n",
       "X3530    1\n",
       "Name: count, Length: 3629, dtype: int64"
      ]
     },
     "execution_count": 8,
     "metadata": {},
     "output_type": "execute_result"
    }
   ],
   "source": [
    "categories['Code'].value_counts()"
   ]
  },
  {
   "cell_type": "code",
   "execution_count": null,
   "metadata": {},
   "outputs": [],
   "source": []
  }
 ],
 "metadata": {
  "kernelspec": {
   "display_name": ".venv",
   "language": "python",
   "name": "python3"
  },
  "language_info": {
   "codemirror_mode": {
    "name": "ipython",
    "version": 3
   },
   "file_extension": ".py",
   "mimetype": "text/x-python",
   "name": "python",
   "nbconvert_exporter": "python",
   "pygments_lexer": "ipython3",
   "version": "3.13.2"
  }
 },
 "nbformat": 4,
 "nbformat_minor": 2
}
